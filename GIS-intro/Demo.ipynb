{
 "cells": [
  {
   "attachments": {},
   "cell_type": "markdown",
   "metadata": {},
   "source": [
    "# Introduction to Python in GIS\n",
    "by: Bo Fethe\n",
    "\n",
    "Pre-reqs:\n",
    "+ ArcGIS Pro"
   ]
  },
  {
   "attachments": {},
   "cell_type": "markdown",
   "metadata": {},
   "source": [
    "## Setup"
   ]
  },
  {
   "attachments": {},
   "cell_type": "markdown",
   "metadata": {},
   "source": [
    "Out of the box, ESRI gives you a [conda](https://anaconda.org/Esri) python environment that functions similar to Anaconda's base environment. This means that you should not (and in this case, cannot) edit this environment or you risk running into issues later such as with cloned environment dependencies.\n",
    "\n",
    "The first thing you should do is clone this environment. Open ArcGIS Pro and navigate to `Project` > `Package Manager` and in the `Active Environment` box click on the `gear icon` > `...` next to the default python environment > `Clone`, and then give your new environment a name and path. After it's cloned, activate your new environment by right clicking it and selecting `Activate`. Now that you have this setup, you can install other libraries, update libraries, break it, fix it, ...whatever.  You can easily default back to the base if something goes wrong."
   ]
  },
  {
   "attachments": {},
   "cell_type": "markdown",
   "metadata": {},
   "source": [
    "ESRI has 2 important python libraries to be familiar with - `arcpy` for accessing local files and geoprocessing tools and `arcgis` for accessing web layers and cloud-based geoprocessing tools."
   ]
  },
  {
   "cell_type": "code",
   "execution_count": null,
   "metadata": {},
   "outputs": [],
   "source": [
    "# ESRI libraries\n",
    "import arcgis\n",
    "import arcpy\n",
    "\n",
    "# Non-ESRI libraries\n",
    "import os\n",
    "import sys"
   ]
  },
  {
   "attachments": {},
   "cell_type": "markdown",
   "metadata": {},
   "source": [
    "Print the current python version and authenticate yourself through the active portal in ArcGIS Pro. Alternatively, you can pass your `url`, `username` and `password` as parameters."
   ]
  },
  {
   "cell_type": "code",
   "execution_count": null,
   "metadata": {},
   "outputs": [],
   "source": [
    "print('Python version:', sys.version)\n",
    "\n",
    "gis = arcgis.GIS('Pro')\n",
    "print('Logged in as:', gis.properties.user.username)"
   ]
  },
  {
   "attachments": {},
   "cell_type": "markdown",
   "metadata": {},
   "source": [
    "Create a workspace"
   ]
  },
  {
   "cell_type": "code",
   "execution_count": null,
   "metadata": {},
   "outputs": [],
   "source": [
    "arcpy.env.overwriteOutput = True    # Allow overwriting layers\n",
    "gdbName = 'python-gis' + '.gdb'     # Geodatabase name must include file extension\n",
    "\n",
    "# Create a new geodatabase.\n",
    "arcpy.CreateFileGDB_management(out_folder_path='data', out_name=gdbName)\n",
    "\n",
    "# Set workspace to the new geodatabase\n",
    "arcpy.env.workspace = os.path.join('data', gdbName)"
   ]
  },
  {
   "attachments": {},
   "cell_type": "markdown",
   "metadata": {},
   "source": [
    "## Accessing Web Layers"
   ]
  },
  {
   "attachments": {},
   "cell_type": "markdown",
   "metadata": {},
   "source": [
    "You can access web layers through [arcgis](https://developers.arcgis.com/python/api-reference/). You can either search by name, or use the service URL as shown below. This layer can be added to an interactive map object and queried as a spatial dataframe. This example is exporting a web layer of Florida's counties with FDOT District ID."
   ]
  },
  {
   "cell_type": "code",
   "execution_count": null,
   "metadata": {},
   "outputs": [],
   "source": [
    "# Define the service URL\n",
    "districtsURL = 'https://services1.arcgis.com/O1JpcwDW8sjYuddV/arcgis/rest/services/Florida_County_Boundaries_with_FDOT_Districts/FeatureServer'\n",
    "\n",
    "# Construct the FeatureLayer object \n",
    "searchResults = gis.content.search(districtsURL, 'Feature Layer')\n",
    "districtsLayer = searchResults[0].layers[0]\n",
    "\n",
    "# Create a map object and add the layer to it\n",
    "mapp = gis.map('Florida')\n",
    "mapp.basemap ='gray'\n",
    "mapp.add_layer(districtsLayer)\n",
    "mapp"
   ]
  },
  {
   "attachments": {},
   "cell_type": "markdown",
   "metadata": {},
   "source": [
    "Read the district layer as a spatial dataframe.  There are many similarities between an arcgis spatial dataframe and a pandas dataframe. For example: you can filter the dataframe by passing in a boolean arguement and the indexes where `TRUE` will be returned. The below example filters the districts county layer to only those in FDOT District 7."
   ]
  },
  {
   "cell_type": "code",
   "execution_count": null,
   "metadata": {},
   "outputs": [],
   "source": [
    "# Construct the dataframe\n",
    "districtsSDF = districtsLayer.query().sdf\n",
    "print('districtsSDF data type:', type(districtsSDF))\n",
    "\n",
    "# Filter the dataframe\n",
    "districtsSDF[districtsSDF['FDOTDistr'] == 7]"
   ]
  },
  {
   "attachments": {},
   "cell_type": "markdown",
   "metadata": {},
   "source": [
    "## Local Geoprocessing Tools"
   ]
  },
  {
   "attachments": {},
   "cell_type": "markdown",
   "metadata": {},
   "source": [
    "You can access the geoprocesing tools you would normally have access to in ArcGIS Pro using the [arcpy](https://pro.arcgis.com/en/pro-app/latest/arcpy/functions/alphabetical-list-of-arcpy-functions.htm) library. This example below is exporting the FDOT Districts layer into our default workspace and then confirming the layers in the geodatabase."
   ]
  },
  {
   "cell_type": "code",
   "execution_count": null,
   "metadata": {},
   "outputs": [],
   "source": [
    "# Export the web layer\n",
    "arcpy.conversion.ExportFeatures(in_features=districtsSDF,\n",
    "                                    out_features='Districts')\n",
    "\n",
    "# Make sure the layer exported\n",
    "print('Local files:', arcpy.ListFeatureClasses(), sep='\\n')"
   ]
  }
 ],
 "metadata": {
  "kernelspec": {
   "display_name": "Python 3",
   "language": "python",
   "name": "python3"
  },
  "language_info": {
   "codemirror_mode": {
    "name": "ipython",
    "version": 3
   },
   "file_extension": ".py",
   "mimetype": "text/x-python",
   "name": "python",
   "nbconvert_exporter": "python",
   "pygments_lexer": "ipython3",
   "version": "3.9.16"
  },
  "orig_nbformat": 4,
  "vscode": {
   "interpreter": {
    "hash": "5ad4c240f66ed6396835fa5dfd204ec2abc6fe5f45286315fd778c7862e8a253"
   }
  }
 },
 "nbformat": 4,
 "nbformat_minor": 2
}
