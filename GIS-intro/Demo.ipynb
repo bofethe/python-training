{
 "cells": [
  {
   "attachments": {},
   "cell_type": "markdown",
   "metadata": {},
   "source": [
    "# Introduction to Python in GIS\n",
    "by: Bo Fethe\n",
    "\n",
    "Pre-reqs:\n",
    "+ ArcGIS Pro"
   ]
  },
  {
   "attachments": {},
   "cell_type": "markdown",
   "metadata": {},
   "source": [
    "## Setup"
   ]
  },
  {
   "attachments": {},
   "cell_type": "markdown",
   "metadata": {},
   "source": [
    "Out of the box, ESRI gives you a [conda](https://anaconda.org/Esri) python environment that functions similar to Anaconda's base environment. This means that you should not (and in this case, cannot) edit this environment or you risk running into issues later such as with cloned environment dependencies.\n",
    "\n",
    "The first thing you should do is clone this environment. Open ArcGIS Pro and navigate to `Project` > `Package Manager` and in the `Active Environment` box click on the `gear icon` > `...` next to the default python environment > `Clone`, and then give your new environment a name and path. After it's cloned, activate your new environment by right clicking it and selecting `Activate`. Now that you have this setup, you can install other libraries, update libraries, break it, fix it, ...whatever.  You can easily default back to the base if something goes wrong."
   ]
  },
  {
   "attachments": {},
   "cell_type": "markdown",
   "metadata": {},
   "source": [
    "ESRI has 2 important python libraries to be familiar with - `arcpy` for accessing local files and geoprocessing tools and `arcgis` for accessing web layers and cloud-based geoprocessing tools."
   ]
  },
  {
   "cell_type": "code",
   "execution_count": 2,
   "metadata": {},
   "outputs": [],
   "source": [
    "# ESRI libraries\n",
    "import arcgis\n",
    "import arcpy\n",
    "\n",
    "# Non-ESRI libraries\n",
    "import os\n",
    "import sys"
   ]
  },
  {
   "attachments": {},
   "cell_type": "markdown",
   "metadata": {},
   "source": [
    "Print the current python version and authenticate yourself through the active portal in ArcGIS Pro. Alternatively, you can pass your `url`, `username` and `password` as parameters."
   ]
  },
  {
   "cell_type": "code",
   "execution_count": 3,
   "metadata": {},
   "outputs": [
    {
     "name": "stdout",
     "output_type": "stream",
     "text": [
      "Python version: 3.9.16 [MSC v.1931 64 bit (AMD64)]\n",
      "Logged in as: Bo.Fethe_fdot1\n"
     ]
    }
   ],
   "source": [
    "print('Python version:', sys.version)\n",
    "\n",
    "gis = arcgis.GIS('Pro')\n",
    "print('Logged in as:', gis.properties.user.username)"
   ]
  },
  {
   "attachments": {},
   "cell_type": "markdown",
   "metadata": {},
   "source": [
    "Create a workspace"
   ]
  },
  {
   "cell_type": "code",
   "execution_count": 21,
   "metadata": {},
   "outputs": [],
   "source": [
    "arcpy.env.overwriteOutput = True    # Allow overwriting layers\n",
    "gdbName = 'python-gis' + '.gdb'     # Geodatabase name must include file extension\n",
    "\n",
    "# Create a new geodatabase.\n",
    "arcpy.management.CreateFileGDB(out_folder_path='data',\n",
    "                               out_name=gdbName)\n",
    "\n",
    "# Set workspace to the new geodatabase\n",
    "arcpy.env.workspace = os.path.join('data', gdbName)"
   ]
  },
  {
   "attachments": {},
   "cell_type": "markdown",
   "metadata": {},
   "source": [
    "## Accessing Web Layers"
   ]
  },
  {
   "attachments": {},
   "cell_type": "markdown",
   "metadata": {},
   "source": [
    "You can access web layers through [arcgis](https://developers.arcgis.com/python/api-reference/). You can either search by name, use the service URL, or by ArcGIS Online item ID as shown below. This layer can be added to an interactive map object and queried as a spatial dataframe. This example is accessing a web layer of Florida's counties with FDOT District ID."
   ]
  },
  {
   "cell_type": "code",
   "execution_count": 22,
   "metadata": {},
   "outputs": [],
   "source": [
    "# Define the service URL\n",
    "districtsID = '0e28ef312008491aa86f90bd9ca7c706'\n",
    "\n",
    "# Construct the FeatureLayer object \n",
    "searchResults = gis.content.search(districtsID, 'Feature Layer')\n",
    "districtsLayer = searchResults[0].layers[0]\n",
    "\n",
    "# ## Currently buggy in Pro 3.1 ###\n",
    "# ## Create a map object and add the layer to it\n",
    "# mapp = gis.map('Florida')\n",
    "# mapp.add_layer(districtsLayer)\n",
    "# mapp"
   ]
  },
  {
   "attachments": {},
   "cell_type": "markdown",
   "metadata": {},
   "source": [
    "Read the district layer as a spatial dataframe.  There are many similarities between an arcgis spatial dataframe and a pandas dataframe. For example: you can filter the dataframe by passing in a boolean arguement and the indexes where `TRUE` will be returned. The below example filters the districts county layer to only those in FDOT District 7."
   ]
  },
  {
   "cell_type": "code",
   "execution_count": 17,
   "metadata": {},
   "outputs": [
    {
     "name": "stdout",
     "output_type": "stream",
     "text": [
      "districtsSDF data type: <class 'pandas.core.frame.DataFrame'>\n"
     ]
    },
    {
     "data": {
      "text/html": [
       "<div>\n",
       "<style scoped>\n",
       "    .dataframe tbody tr th:only-of-type {\n",
       "        vertical-align: middle;\n",
       "    }\n",
       "\n",
       "    .dataframe tbody tr th {\n",
       "        vertical-align: top;\n",
       "    }\n",
       "\n",
       "    .dataframe thead th {\n",
       "        text-align: right;\n",
       "    }\n",
       "</style>\n",
       "<table border=\"1\" class=\"dataframe\">\n",
       "  <thead>\n",
       "    <tr style=\"text-align: right;\">\n",
       "      <th></th>\n",
       "      <th>FID</th>\n",
       "      <th>NAME</th>\n",
       "      <th>FIRST_FIPS</th>\n",
       "      <th>OBJECTID</th>\n",
       "      <th>FEATURE_AR</th>\n",
       "      <th>FEATURE_LE</th>\n",
       "      <th>FDOTDistr</th>\n",
       "      <th>DistrictString</th>\n",
       "      <th>DEPCODE</th>\n",
       "      <th>DEPCODENUM</th>\n",
       "      <th>DCode</th>\n",
       "      <th>County</th>\n",
       "      <th>FDOTCountyCode</th>\n",
       "      <th>SHAPE</th>\n",
       "    </tr>\n",
       "  </thead>\n",
       "  <tbody>\n",
       "    <tr>\n",
       "      <th>18</th>\n",
       "      <td>19</td>\n",
       "      <td>Pasco</td>\n",
       "      <td>101</td>\n",
       "      <td>51</td>\n",
       "      <td>0.0</td>\n",
       "      <td>0.0</td>\n",
       "      <td>7</td>\n",
       "      <td>Seven</td>\n",
       "      <td>51</td>\n",
       "      <td>51</td>\n",
       "      <td>D7</td>\n",
       "      <td>Pasco</td>\n",
       "      <td>14</td>\n",
       "      <td>{\"rings\": [[[-9207770, 3292091], [-9207695, 32...</td>\n",
       "    </tr>\n",
       "    <tr>\n",
       "      <th>19</th>\n",
       "      <td>20</td>\n",
       "      <td>Pinellas</td>\n",
       "      <td>103</td>\n",
       "      <td>52</td>\n",
       "      <td>0.0</td>\n",
       "      <td>0.0</td>\n",
       "      <td>7</td>\n",
       "      <td>Seven</td>\n",
       "      <td>52</td>\n",
       "      <td>52</td>\n",
       "      <td>D7</td>\n",
       "      <td>Pinellas</td>\n",
       "      <td>15</td>\n",
       "      <td>{\"rings\": [[[-9220234, 3237823], [-9220096, 32...</td>\n",
       "    </tr>\n",
       "    <tr>\n",
       "      <th>37</th>\n",
       "      <td>38</td>\n",
       "      <td>Citrus</td>\n",
       "      <td>017</td>\n",
       "      <td>9</td>\n",
       "      <td>0.0</td>\n",
       "      <td>0.0</td>\n",
       "      <td>7</td>\n",
       "      <td>Seven</td>\n",
       "      <td>9</td>\n",
       "      <td>9</td>\n",
       "      <td>D7</td>\n",
       "      <td>Citrus</td>\n",
       "      <td>02</td>\n",
       "      <td>{\"rings\": [[[-9181660, 3382364], [-9181551, 33...</td>\n",
       "    </tr>\n",
       "    <tr>\n",
       "      <th>54</th>\n",
       "      <td>55</td>\n",
       "      <td>Hernando</td>\n",
       "      <td>053</td>\n",
       "      <td>26</td>\n",
       "      <td>0.0</td>\n",
       "      <td>0.0</td>\n",
       "      <td>7</td>\n",
       "      <td>Seven</td>\n",
       "      <td>27</td>\n",
       "      <td>27</td>\n",
       "      <td>D7</td>\n",
       "      <td>Hernando</td>\n",
       "      <td>08</td>\n",
       "      <td>{\"rings\": [[[-9203518, 3303737], [-9203657, 33...</td>\n",
       "    </tr>\n",
       "    <tr>\n",
       "      <th>56</th>\n",
       "      <td>57</td>\n",
       "      <td>Hillsborough</td>\n",
       "      <td>057</td>\n",
       "      <td>28</td>\n",
       "      <td>0.0</td>\n",
       "      <td>0.0</td>\n",
       "      <td>7</td>\n",
       "      <td>Seven</td>\n",
       "      <td>29</td>\n",
       "      <td>29</td>\n",
       "      <td>D7</td>\n",
       "      <td>Hillsborough</td>\n",
       "      <td>10</td>\n",
       "      <td>{\"rings\": [[[-9212552, 3195753], [-9212586, 31...</td>\n",
       "    </tr>\n",
       "  </tbody>\n",
       "</table>\n",
       "</div>"
      ],
      "text/plain": [
       "    FID          NAME FIRST_FIPS  OBJECTID  FEATURE_AR  FEATURE_LE  FDOTDistr  \\\n",
       "18   19         Pasco        101        51         0.0         0.0          7   \n",
       "19   20      Pinellas        103        52         0.0         0.0          7   \n",
       "37   38        Citrus        017         9         0.0         0.0          7   \n",
       "54   55      Hernando        053        26         0.0         0.0          7   \n",
       "56   57  Hillsborough        057        28         0.0         0.0          7   \n",
       "\n",
       "   DistrictString DEPCODE  DEPCODENUM DCode        County FDOTCountyCode  \\\n",
       "18          Seven      51          51    D7         Pasco             14   \n",
       "19          Seven      52          52    D7      Pinellas             15   \n",
       "37          Seven       9           9    D7        Citrus             02   \n",
       "54          Seven      27          27    D7      Hernando             08   \n",
       "56          Seven      29          29    D7  Hillsborough             10   \n",
       "\n",
       "                                                SHAPE  \n",
       "18  {\"rings\": [[[-9207770, 3292091], [-9207695, 32...  \n",
       "19  {\"rings\": [[[-9220234, 3237823], [-9220096, 32...  \n",
       "37  {\"rings\": [[[-9181660, 3382364], [-9181551, 33...  \n",
       "54  {\"rings\": [[[-9203518, 3303737], [-9203657, 33...  \n",
       "56  {\"rings\": [[[-9212552, 3195753], [-9212586, 31...  "
      ]
     },
     "execution_count": 17,
     "metadata": {},
     "output_type": "execute_result"
    }
   ],
   "source": [
    "# Construct the dataframe and show data type\n",
    "districtsSDF = districtsLayer.query().sdf\n",
    "print('districtsSDF data type:', type(districtsSDF))\n",
    "\n",
    "# Filter and show dataframe\n",
    "districtsSDF[districtsSDF['FDOTDistr'] == 7]"
   ]
  },
  {
   "attachments": {},
   "cell_type": "markdown",
   "metadata": {},
   "source": [
    "## Local Geoprocessing Tools"
   ]
  },
  {
   "attachments": {},
   "cell_type": "markdown",
   "metadata": {},
   "source": [
    "You can access the geoprocesing tools you would normally have access to in ArcGIS Pro using the [arcpy](https://pro.arcgis.com/en/pro-app/latest/arcpy/functions/alphabetical-list-of-arcpy-functions.htm) library. This example below is exporting the FDOT Districts layer into our default workspace and then confirming the layers in the geodatabase."
   ]
  },
  {
   "cell_type": "code",
   "execution_count": 18,
   "metadata": {},
   "outputs": [
    {
     "name": "stdout",
     "output_type": "stream",
     "text": [
      "Local files:\n",
      "['Districts']\n"
     ]
    }
   ],
   "source": [
    "# Export the web layer\n",
    "arcpy.conversion.ExportFeatures(in_features=districtsSDF,\n",
    "                                out_features='Districts')\n",
    "\n",
    "# Make sure the layer exported\n",
    "print('Local files:', arcpy.ListFeatureClasses(), sep='\\n')"
   ]
  }
 ],
 "metadata": {
  "kernelspec": {
   "display_name": "Python 3",
   "language": "python",
   "name": "python3"
  },
  "language_info": {
   "codemirror_mode": {
    "name": "ipython",
    "version": 3
   },
   "file_extension": ".py",
   "mimetype": "text/x-python",
   "name": "python",
   "nbconvert_exporter": "python",
   "pygments_lexer": "ipython3",
   "version": "3.9.16"
  },
  "orig_nbformat": 4,
  "vscode": {
   "interpreter": {
    "hash": "5ad4c240f66ed6396835fa5dfd204ec2abc6fe5f45286315fd778c7862e8a253"
   }
  }
 },
 "nbformat": 4,
 "nbformat_minor": 2
}
